{
 "cells": [
  {
   "cell_type": "code",
   "execution_count": 1,
   "metadata": {
    "pycharm": {
     "is_executing": false
    }
   },
   "outputs": [],
   "source": [
    "import pathlib\n",
    "\n",
    "import numpy as np\n",
    "import scipy.sparse\n",
    "import scipy.io\n",
    "import pandas as pd\n",
    "from sklearn.feature_extraction.text import CountVectorizer\n",
    "import networkx as nx\n",
    "import utils.preprocess\n",
    "from sklearn.model_selection import train_test_split"
   ]
  },
  {
   "cell_type": "code",
   "execution_count": 2,
   "metadata": {
    "pycharm": {
     "is_executing": false,
     "name": "#%%\n"
    }
   },
   "outputs": [],
   "source": [
    "save_prefix = 'data/preprocessed/IMDB_processed/'\n",
    "num_ntypes = 3"
   ]
  },
  {
   "cell_type": "code",
   "execution_count": 3,
   "metadata": {
    "pycharm": {
     "is_executing": false,
     "name": "#%%\n"
    }
   },
   "outputs": [
    {
     "name": "stdout",
     "output_type": "stream",
     "text": [
      "      color      director_name  num_critic_for_reviews  duration  \\\n",
      "0     Color      James Cameron                   723.0     178.0   \n",
      "1     Color     Gore Verbinski                   302.0     169.0   \n",
      "2     Color         Sam Mendes                   602.0     148.0   \n",
      "3     Color  Christopher Nolan                   813.0     164.0   \n",
      "4       NaN        Doug Walker                     NaN       NaN   \n",
      "...     ...                ...                     ...       ...   \n",
      "4927  Color       Edward Burns                    14.0      95.0   \n",
      "4928  Color        Scott Smith                     1.0      87.0   \n",
      "4929  Color   Benjamin Roberds                    13.0      76.0   \n",
      "4930  Color        Daniel Hsia                    14.0     100.0   \n",
      "4931  Color           Jon Gunn                    43.0      90.0   \n",
      "\n",
      "      director_facebook_likes  actor_3_facebook_likes        actor_2_name  \\\n",
      "0                         0.0                   855.0    Joel David Moore   \n",
      "1                       563.0                  1000.0       Orlando Bloom   \n",
      "2                         0.0                   161.0        Rory Kinnear   \n",
      "3                     22000.0                 23000.0      Christian Bale   \n",
      "4                       131.0                     NaN          Rob Walker   \n",
      "...                       ...                     ...                 ...   \n",
      "4927                      0.0                   133.0  Caitlin FitzGerald   \n",
      "4928                      2.0                   318.0       Daphne Zuniga   \n",
      "4929                      0.0                     0.0       Maxwell Moody   \n",
      "4930                      0.0                   489.0       Daniel Henney   \n",
      "4931                     16.0                    16.0    Brian Herzlinger   \n",
      "\n",
      "      actor_1_facebook_likes        gross                           genres  \\\n",
      "0                     1000.0  760505847.0  Action|Adventure|Fantasy|Sci-Fi   \n",
      "1                    40000.0  309404152.0         Action|Adventure|Fantasy   \n",
      "2                    11000.0  200074175.0        Action|Adventure|Thriller   \n",
      "3                    27000.0  448130642.0                  Action|Thriller   \n",
      "4                      131.0          NaN                      Documentary   \n",
      "...                      ...          ...                              ...   \n",
      "4927                   296.0       4584.0                     Comedy|Drama   \n",
      "4928                   637.0          NaN                     Comedy|Drama   \n",
      "4929                     0.0          NaN            Drama|Horror|Thriller   \n",
      "4930                   946.0      10443.0             Comedy|Drama|Romance   \n",
      "4931                    86.0      85222.0                      Documentary   \n",
      "\n",
      "      ... num_user_for_reviews language  country  content_rating       budget  \\\n",
      "0     ...               3054.0  English      USA           PG-13  237000000.0   \n",
      "1     ...               1238.0  English      USA           PG-13  300000000.0   \n",
      "2     ...                994.0  English       UK           PG-13  245000000.0   \n",
      "3     ...               2701.0  English      USA           PG-13  250000000.0   \n",
      "4     ...                  NaN      NaN      NaN             NaN          NaN   \n",
      "...   ...                  ...      ...      ...             ...          ...   \n",
      "4927  ...                 14.0  English      USA       Not Rated       9000.0   \n",
      "4928  ...                  6.0  English   Canada             NaN          NaN   \n",
      "4929  ...                  3.0  English      USA             NaN       1400.0   \n",
      "4930  ...                  9.0  English      USA           PG-13          NaN   \n",
      "4931  ...                 84.0  English      USA              PG       1100.0   \n",
      "\n",
      "      title_year actor_2_facebook_likes imdb_score  aspect_ratio  \\\n",
      "0         2009.0                  936.0        7.9          1.78   \n",
      "1         2007.0                 5000.0        7.1          2.35   \n",
      "2         2015.0                  393.0        6.8          2.35   \n",
      "3         2012.0                23000.0        8.5          2.35   \n",
      "4            NaN                   12.0        7.1           NaN   \n",
      "...          ...                    ...        ...           ...   \n",
      "4927      2011.0                  205.0        6.4           NaN   \n",
      "4928      2013.0                  470.0        7.7           NaN   \n",
      "4929      2013.0                    0.0        6.3           NaN   \n",
      "4930      2012.0                  719.0        6.3          2.35   \n",
      "4931      2004.0                   23.0        6.6          1.85   \n",
      "\n",
      "     movie_facebook_likes  \n",
      "0                   33000  \n",
      "1                       0  \n",
      "2                   85000  \n",
      "3                  164000  \n",
      "4                       0  \n",
      "...                   ...  \n",
      "4927                  413  \n",
      "4928                   84  \n",
      "4929                   16  \n",
      "4930                  660  \n",
      "4931                  456  \n",
      "\n",
      "[4932 rows x 28 columns]\n"
     ]
    }
   ],
   "source": [
    "# load raw data, delete movies with no actor or director\n",
    "movies = pd.read_csv('data/raw/IMDB/movie_metadata.csv', encoding='utf-8').dropna(\n",
    "    axis=0, subset=['actor_1_name', 'director_name']).reset_index(drop=True)\n",
    "print(movies)"
   ]
  },
  {
   "cell_type": "code",
   "execution_count": 4,
   "metadata": {
    "pycharm": {
     "is_executing": false,
     "name": "#%%\n"
    }
   },
   "outputs": [],
   "source": [
    "# extract labels, and delete movies with unwanted genres\n",
    "# 0 for action, 1 for comedy, 2 for drama, -1 for others\n",
    "labels = np.zeros((len(movies)), dtype=int)\n",
    "for movie_idx, genres in movies['genres'].iteritems():\n",
    "    labels[movie_idx] = -1\n",
    "    for genre in genres.split('|'):\n",
    "        if genre == 'Action':\n",
    "            labels[movie_idx] = 0\n",
    "            break\n",
    "        elif genre == 'Comedy':\n",
    "            labels[movie_idx] = 1\n",
    "            break\n",
    "        elif genre == 'Drama':\n",
    "            labels[movie_idx] = 2\n",
    "            break\n",
    "unwanted_idx = np.where(labels == -1)[0]\n",
    "movies = movies.drop(unwanted_idx).reset_index(drop=True)\n",
    "labels = np.delete(labels, unwanted_idx, 0)"
   ]
  },
  {
   "cell_type": "code",
   "execution_count": 5,
   "metadata": {
    "pycharm": {
     "is_executing": false,
     "name": "#%%\n"
    }
   },
   "outputs": [
    {
     "name": "stdout",
     "output_type": "stream",
     "text": [
      "      color      director_name  num_critic_for_reviews  duration  \\\n",
      "0     Color      James Cameron                   723.0     178.0   \n",
      "1     Color     Gore Verbinski                   302.0     169.0   \n",
      "2     Color         Sam Mendes                   602.0     148.0   \n",
      "3     Color  Christopher Nolan                   813.0     164.0   \n",
      "4     Color     Andrew Stanton                   462.0     132.0   \n",
      "...     ...                ...                     ...       ...   \n",
      "4273  Color    Anthony Vallone                     NaN      84.0   \n",
      "4274  Color       Edward Burns                    14.0      95.0   \n",
      "4275  Color        Scott Smith                     1.0      87.0   \n",
      "4276  Color   Benjamin Roberds                    13.0      76.0   \n",
      "4277  Color        Daniel Hsia                    14.0     100.0   \n",
      "\n",
      "      director_facebook_likes  actor_3_facebook_likes        actor_2_name  \\\n",
      "0                         0.0                   855.0    Joel David Moore   \n",
      "1                       563.0                  1000.0       Orlando Bloom   \n",
      "2                         0.0                   161.0        Rory Kinnear   \n",
      "3                     22000.0                 23000.0      Christian Bale   \n",
      "4                       475.0                   530.0     Samantha Morton   \n",
      "...                       ...                     ...                 ...   \n",
      "4273                      2.0                     2.0      John Considine   \n",
      "4274                      0.0                   133.0  Caitlin FitzGerald   \n",
      "4275                      2.0                   318.0       Daphne Zuniga   \n",
      "4276                      0.0                     0.0       Maxwell Moody   \n",
      "4277                      0.0                   489.0       Daniel Henney   \n",
      "\n",
      "      actor_1_facebook_likes        gross                           genres  \\\n",
      "0                     1000.0  760505847.0  Action|Adventure|Fantasy|Sci-Fi   \n",
      "1                    40000.0  309404152.0         Action|Adventure|Fantasy   \n",
      "2                    11000.0  200074175.0        Action|Adventure|Thriller   \n",
      "3                    27000.0  448130642.0                  Action|Thriller   \n",
      "4                      640.0   73058679.0          Action|Adventure|Sci-Fi   \n",
      "...                      ...          ...                              ...   \n",
      "4273                    45.0          NaN                      Crime|Drama   \n",
      "4274                   296.0       4584.0                     Comedy|Drama   \n",
      "4275                   637.0          NaN                     Comedy|Drama   \n",
      "4276                     0.0          NaN            Drama|Horror|Thriller   \n",
      "4277                   946.0      10443.0             Comedy|Drama|Romance   \n",
      "\n",
      "      ... num_user_for_reviews language  country  content_rating       budget  \\\n",
      "0     ...               3054.0  English      USA           PG-13  237000000.0   \n",
      "1     ...               1238.0  English      USA           PG-13  300000000.0   \n",
      "2     ...                994.0  English       UK           PG-13  245000000.0   \n",
      "3     ...               2701.0  English      USA           PG-13  250000000.0   \n",
      "4     ...                738.0  English      USA           PG-13  263700000.0   \n",
      "...   ...                  ...      ...      ...             ...          ...   \n",
      "4273  ...                  1.0  English      USA           PG-13       3250.0   \n",
      "4274  ...                 14.0  English      USA       Not Rated       9000.0   \n",
      "4275  ...                  6.0  English   Canada             NaN          NaN   \n",
      "4276  ...                  3.0  English      USA             NaN       1400.0   \n",
      "4277  ...                  9.0  English      USA           PG-13          NaN   \n",
      "\n",
      "      title_year actor_2_facebook_likes imdb_score  aspect_ratio  \\\n",
      "0         2009.0                  936.0        7.9          1.78   \n",
      "1         2007.0                 5000.0        7.1          2.35   \n",
      "2         2015.0                  393.0        6.8          2.35   \n",
      "3         2012.0                23000.0        8.5          2.35   \n",
      "4         2012.0                  632.0        6.6          2.35   \n",
      "...          ...                    ...        ...           ...   \n",
      "4273      2005.0                   44.0        7.8           NaN   \n",
      "4274      2011.0                  205.0        6.4           NaN   \n",
      "4275      2013.0                  470.0        7.7           NaN   \n",
      "4276      2013.0                    0.0        6.3           NaN   \n",
      "4277      2012.0                  719.0        6.3          2.35   \n",
      "\n",
      "     movie_facebook_likes  \n",
      "0                   33000  \n",
      "1                       0  \n",
      "2                   85000  \n",
      "3                  164000  \n",
      "4                   24000  \n",
      "...                   ...  \n",
      "4273                    4  \n",
      "4274                  413  \n",
      "4275                   84  \n",
      "4276                   16  \n",
      "4277                  660  \n",
      "\n",
      "[4278 rows x 28 columns]\n"
     ]
    }
   ],
   "source": [
    "# get director list and actor list\n",
    "directors = list(set(movies['director_name'].dropna()))\n",
    "directors.sort()\n",
    "actors = list(set(movies['actor_1_name'].dropna().to_list() +\n",
    "                  movies['actor_2_name'].dropna().to_list() +\n",
    "                  movies['actor_3_name'].dropna().to_list()))\n",
    "actors.sort()\n",
    "print(movies)"
   ]
  },
  {
   "cell_type": "code",
   "execution_count": 6,
   "metadata": {
    "pycharm": {
     "is_executing": false,
     "name": "#%%\n"
    }
   },
   "outputs": [],
   "source": [
    "# build the adjacency matrix for the graph consisting of movies, directors and actors\n",
    "# 0 for movies, 1 for directors, 2 for actors\n",
    "dim = len(movies) + len(directors) + len(actors)\n",
    "type_mask = np.zeros((dim), dtype=int)\n",
    "type_mask[len(movies):len(movies)+len(directors)] = 1\n",
    "type_mask[len(movies)+len(directors):] = 2\n",
    "\n",
    "adjM = np.zeros((dim, dim), dtype=int)\n",
    "for movie_idx, row in movies.iterrows():\n",
    "    if row['director_name'] in directors:\n",
    "        director_idx = directors.index(row['director_name'])\n",
    "        adjM[movie_idx, len(movies) + director_idx] = 1\n",
    "        adjM[len(movies) + director_idx, movie_idx] = 1\n",
    "    if row['actor_1_name'] in actors:\n",
    "        actor_idx = actors.index(row['actor_1_name'])\n",
    "        adjM[movie_idx, len(movies) + len(directors) + actor_idx] = 1\n",
    "        adjM[len(movies) + len(directors) + actor_idx, movie_idx] = 1\n",
    "    if row['actor_2_name'] in actors:\n",
    "        actor_idx = actors.index(row['actor_2_name'])\n",
    "        adjM[movie_idx, len(movies) + len(directors) + actor_idx] = 1\n",
    "        adjM[len(movies) + len(directors) + actor_idx, movie_idx] = 1\n",
    "    if row['actor_3_name'] in actors:\n",
    "        actor_idx = actors.index(row['actor_3_name'])\n",
    "        adjM[movie_idx, len(movies) + len(directors) + actor_idx] = 1\n",
    "        adjM[len(movies) + len(directors) + actor_idx, movie_idx] = 1"
   ]
  },
  {
   "cell_type": "code",
   "execution_count": 8,
   "metadata": {
    "pycharm": {
     "is_executing": false,
     "name": "#%%\n"
    }
   },
   "outputs": [
    {
     "name": "stdout",
     "output_type": "stream",
     "text": [
      "  (0, 230)\t1\n",
      "  (0, 1125)\t1\n",
      "  (0, 1673)\t1\n",
      "  (0, 1843)\t1\n",
      "  (1, 1170)\t1\n",
      "  (1, 1677)\t2\n",
      "  (1, 2164)\t1\n",
      "  (1, 2064)\t1\n",
      "  (1, 2483)\t1\n",
      "  (2, 343)\t1\n",
      "  (2, 948)\t1\n",
      "  (2, 2425)\t1\n",
      "  (2, 2578)\t1\n",
      "  (2, 2736)\t1\n",
      "  (3, 2736)\t1\n",
      "  (3, 753)\t1\n",
      "  (3, 1380)\t1\n",
      "  (3, 2095)\t1\n",
      "  (3, 1918)\t1\n",
      "  (3, 2085)\t1\n",
      "  (4, 102)\t1\n",
      "  (4, 119)\t1\n",
      "  (4, 546)\t1\n",
      "  (4, 2961)\t1\n",
      "  (4, 1654)\t1\n",
      "  :\t:\n",
      "  (4271, 1041)\t1\n",
      "  (4271, 2746)\t1\n",
      "  (4271, 2769)\t1\n",
      "  (4271, 2822)\t1\n",
      "  (4271, 2770)\t1\n",
      "  (4271, 1888)\t1\n",
      "  (4271, 1387)\t1\n",
      "  (4271, 1431)\t1\n",
      "  (4272, 193)\t1\n",
      "  (4272, 747)\t1\n",
      "  (4272, 1221)\t1\n",
      "  (4272, 1218)\t1\n",
      "  (4272, 1671)\t1\n",
      "  (4274, 129)\t1\n",
      "  (4274, 419)\t1\n",
      "  (4274, 3042)\t1\n",
      "  (4274, 802)\t1\n",
      "  (4274, 468)\t1\n",
      "  (4274, 1712)\t1\n",
      "  (4275, 2140)\t1\n",
      "  (4275, 2749)\t1\n",
      "  (4275, 1102)\t1\n",
      "  (4275, 3029)\t1\n",
      "  (4275, 2828)\t1\n",
      "  (4275, 2113)\t1\n",
      "(4278, 3066)\n",
      "[[0 0 0 ... 0 0 0]\n",
      " [0 0 0 ... 0 0 0]\n",
      " [0 0 0 ... 0 0 0]\n",
      " ...\n",
      " [0 0 0 ... 0 0 0]\n",
      " [0 0 0 ... 0 0 0]\n",
      " [0 0 0 ... 0 0 0]]\n",
      "(7338, 4278)\n",
      "[1 1 1 ... 1 1 3]\n"
     ]
    }
   ],
   "source": [
    "# extract bag-of-word representations of plot keywords for each movie\n",
    "# X is a sparse matrix\n",
    "vectorizer = CountVectorizer(min_df=2)\n",
    "movie_X = vectorizer.fit_transform(movies['plot_keywords'].fillna('').values)\n",
    "# assign features to directors and actors as the means of their associated movies' features\n",
    "adjM_da2m = adjM[len(movies):, :len(movies)]\n",
    "adjM_da2m_normalized = np.diag(1 / adjM_da2m.sum(axis=1)).dot(adjM_da2m)\n",
    "director_actor_X = scipy.sparse.csr_matrix(adjM_da2m_normalized).dot(movie_X)\n",
    "full_X = scipy.sparse.vstack([movie_X, director_actor_X])\n",
    "print(movie_X)\n",
    "print(movie_X.shape)\n",
    "print(adjM_da2m)\n",
    "print(adjM_da2m.shape)\n",
    "print(adjM_da2m.sum(axis=1))"
   ]
  },
  {
   "cell_type": "code",
   "execution_count": 21,
   "metadata": {
    "pycharm": {
     "is_executing": false,
     "name": "#%%\n"
    },
    "scrolled": true
   },
   "outputs": [
    {
     "name": "stdout",
     "output_type": "stream",
     "text": [
      "type_mask:\n",
      "[0 0 0 ... 2 2 2]\n",
      "11616\n",
      "adjM\n",
      "[[0 0 0 ... 0 0 0]\n",
      " [0 0 0 ... 0 0 0]\n",
      " [0 0 0 ... 0 0 0]\n",
      " ...\n",
      " [0 0 0 ... 0 0 0]\n",
      " [0 0 0 ... 0 0 0]\n",
      " [0 0 0 ... 0 0 0]]\n"
     ]
    },
    {
     "ename": "KeyboardInterrupt",
     "evalue": "",
     "output_type": "error",
     "traceback": [
      "\u001b[0;31m---------------------------------------------------------------------------\u001b[0m",
      "\u001b[0;31mKeyboardInterrupt\u001b[0m                         Traceback (most recent call last)",
      "\u001b[0;32m<ipython-input-21-9fdc2a68d335>\u001b[0m in \u001b[0;36m<module>\u001b[0;34m\u001b[0m\n\u001b[1;32m     14\u001b[0m     \u001b[0mprint\u001b[0m\u001b[0;34m(\u001b[0m\u001b[0;34m\"adjM\"\u001b[0m\u001b[0;34m)\u001b[0m\u001b[0;34m\u001b[0m\u001b[0;34m\u001b[0m\u001b[0m\n\u001b[1;32m     15\u001b[0m     \u001b[0mprint\u001b[0m\u001b[0;34m(\u001b[0m\u001b[0madjM\u001b[0m\u001b[0;34m)\u001b[0m\u001b[0;34m\u001b[0m\u001b[0;34m\u001b[0m\u001b[0m\n\u001b[0;32m---> 16\u001b[0;31m     \u001b[0mneighbor_pairs\u001b[0m \u001b[0;34m=\u001b[0m \u001b[0mutils\u001b[0m\u001b[0;34m.\u001b[0m\u001b[0mpreprocess\u001b[0m\u001b[0;34m.\u001b[0m\u001b[0mget_metapath_neighbor_pairs\u001b[0m\u001b[0;34m(\u001b[0m\u001b[0madjM\u001b[0m\u001b[0;34m,\u001b[0m \u001b[0mtype_mask\u001b[0m\u001b[0;34m,\u001b[0m \u001b[0mexpected_metapaths\u001b[0m\u001b[0;34m[\u001b[0m\u001b[0mi\u001b[0m\u001b[0;34m]\u001b[0m\u001b[0;34m)\u001b[0m\u001b[0;34m\u001b[0m\u001b[0;34m\u001b[0m\u001b[0m\n\u001b[0m\u001b[1;32m     17\u001b[0m     \u001b[0mprint\u001b[0m\u001b[0;34m(\u001b[0m\u001b[0;34m\"neighbor pairs:\"\u001b[0m\u001b[0;34m)\u001b[0m\u001b[0;34m\u001b[0m\u001b[0;34m\u001b[0m\u001b[0m\n\u001b[1;32m     18\u001b[0m     \u001b[0mprint\u001b[0m\u001b[0;34m(\u001b[0m\u001b[0mneighbor_pairs\u001b[0m\u001b[0;34m)\u001b[0m\u001b[0;34m\u001b[0m\u001b[0;34m\u001b[0m\u001b[0m\n",
      "\u001b[0;32m~/ryan-exploration/MAGNN/utils/preprocess.py\u001b[0m in \u001b[0;36mget_metapath_neighbor_pairs\u001b[0;34m(M, type_mask, expected_metapaths)\u001b[0m\n\u001b[1;32m     43\u001b[0m                 \u001b[0;31m# check if there is a possible valid path from source to target node\u001b[0m\u001b[0;34m\u001b[0m\u001b[0;34m\u001b[0m\u001b[0;34m\u001b[0m\u001b[0m\n\u001b[1;32m     44\u001b[0m                 \u001b[0mhas_path\u001b[0m \u001b[0;34m=\u001b[0m \u001b[0;32mFalse\u001b[0m\u001b[0;34m\u001b[0m\u001b[0;34m\u001b[0m\u001b[0m\n\u001b[0;32m---> 45\u001b[0;31m                 single_source_paths = nx.single_source_shortest_path(\n\u001b[0m\u001b[1;32m     46\u001b[0m                     partial_g_nx, source, cutoff=(len(metapath) + 1) // 2 - 1)\n\u001b[1;32m     47\u001b[0m                 \u001b[0;32mif\u001b[0m \u001b[0mtarget\u001b[0m \u001b[0;32min\u001b[0m \u001b[0msingle_source_paths\u001b[0m\u001b[0;34m:\u001b[0m\u001b[0;34m\u001b[0m\u001b[0;34m\u001b[0m\u001b[0m\n",
      "\u001b[0;32m~/anaconda3/envs/MAGNN/lib/python3.8/site-packages/networkx/algorithms/shortest_paths/unweighted.py\u001b[0m in \u001b[0;36msingle_source_shortest_path\u001b[0;34m(G, source, cutoff)\u001b[0m\n\u001b[1;32m    330\u001b[0m     \u001b[0mshortest_path\u001b[0m\u001b[0;34m\u001b[0m\u001b[0;34m\u001b[0m\u001b[0m\n\u001b[1;32m    331\u001b[0m     \"\"\"\n\u001b[0;32m--> 332\u001b[0;31m     \u001b[0;32mif\u001b[0m \u001b[0msource\u001b[0m \u001b[0;32mnot\u001b[0m \u001b[0;32min\u001b[0m \u001b[0mG\u001b[0m\u001b[0;34m:\u001b[0m\u001b[0;34m\u001b[0m\u001b[0;34m\u001b[0m\u001b[0m\n\u001b[0m\u001b[1;32m    333\u001b[0m         \u001b[0;32mraise\u001b[0m \u001b[0mnx\u001b[0m\u001b[0;34m.\u001b[0m\u001b[0mNodeNotFound\u001b[0m\u001b[0;34m(\u001b[0m\u001b[0;34mf\"Source {source} not in G\"\u001b[0m\u001b[0;34m)\u001b[0m\u001b[0;34m\u001b[0m\u001b[0;34m\u001b[0m\u001b[0m\n\u001b[1;32m    334\u001b[0m \u001b[0;34m\u001b[0m\u001b[0m\n",
      "\u001b[0;32m~/anaconda3/envs/MAGNN/lib/python3.8/site-packages/networkx/classes/graph.py\u001b[0m in \u001b[0;36m__contains__\u001b[0;34m(self, n)\u001b[0m\n\u001b[1;32m    414\u001b[0m         \"\"\"\n\u001b[1;32m    415\u001b[0m         \u001b[0;32mtry\u001b[0m\u001b[0;34m:\u001b[0m\u001b[0;34m\u001b[0m\u001b[0;34m\u001b[0m\u001b[0m\n\u001b[0;32m--> 416\u001b[0;31m             \u001b[0;32mreturn\u001b[0m \u001b[0mn\u001b[0m \u001b[0;32min\u001b[0m \u001b[0mself\u001b[0m\u001b[0;34m.\u001b[0m\u001b[0m_node\u001b[0m\u001b[0;34m\u001b[0m\u001b[0;34m\u001b[0m\u001b[0m\n\u001b[0m\u001b[1;32m    417\u001b[0m         \u001b[0;32mexcept\u001b[0m \u001b[0mTypeError\u001b[0m\u001b[0;34m:\u001b[0m\u001b[0;34m\u001b[0m\u001b[0;34m\u001b[0m\u001b[0m\n\u001b[1;32m    418\u001b[0m             \u001b[0;32mreturn\u001b[0m \u001b[0;32mFalse\u001b[0m\u001b[0;34m\u001b[0m\u001b[0;34m\u001b[0m\u001b[0m\n",
      "\u001b[0;31mKeyboardInterrupt\u001b[0m: "
     ]
    }
   ],
   "source": [
    "expected_metapaths = [\n",
    "    [(0, 1, 0), (0, 2, 0)],\n",
    "    [(1, 0, 1), (1, 0, 2, 0, 1)],\n",
    "    [(2, 0, 2), (2, 0, 1, 0, 2)]\n",
    "]\n",
    "# create the directories if they do not exist\n",
    "for i in range(num_ntypes):\n",
    "    pathlib.Path(save_prefix + '{}'.format(i)).mkdir(parents=True, exist_ok=True)\n",
    "for i in range(num_ntypes):\n",
    "    # get metapath based neighbor pairs\n",
    "    print(\"type_mask:\")\n",
    "    print(type_mask)\n",
    "    print(str(len(type_mask)))\n",
    "    print(\"adjM\")\n",
    "    print(adjM)\n",
    "    neighbor_pairs = utils.preprocess.get_metapath_neighbor_pairs(adjM, type_mask, expected_metapaths[i])\n",
    "    print(\"neighbor pairs:\")\n",
    "    print(neighbor_pairs)\n",
    "    # construct and save metapath-based networks\n",
    "    G_list = utils.preprocess.get_networkx_graph(neighbor_pairs, type_mask, i)\n",
    "    \n",
    "    # save data\n",
    "    # networkx graph (metapath specific)\n",
    "    for G, metapath in zip(G_list, expected_metapaths[i]):\n",
    "        nx.write_adjlist(G, save_prefix + '{}/'.format(i) + '-'.join(map(str, metapath)) + '.adjlist')\n",
    "    # node indices of edge metapaths\n",
    "    all_edge_metapath_idx_array = utils.preprocess.get_edge_metapath_idx_array(neighbor_pairs)\n",
    "    for metapath, edge_metapath_idx_array in zip(expected_metapaths[i], all_edge_metapath_idx_array):\n",
    "        np.save(save_prefix + '{}/'.format(i) + '-'.join(map(str, metapath)) + '_idx.npy', edge_metapath_idx_array)\n",
    "\n",
    "# save data\n",
    "# all nodes adjacency matrix\n",
    "scipy.sparse.save_npz(save_prefix + 'adjM.npz', scipy.sparse.csr_matrix(adjM))\n",
    "# all nodes (movies, directors and actors) features\n",
    "for i in range(num_ntypes):\n",
    "    scipy.sparse.save_npz(save_prefix + 'features_{}.npz'.format(i), full_X[np.where(type_mask == i)[0]])\n",
    "# all nodes (movies, directors and actors) type labels\n",
    "np.save(save_prefix + 'node_types.npy', type_mask)\n",
    "# movie genre labels\n",
    "np.save(save_prefix + 'labels.npy', labels)\n",
    "# movie train/validation/test splits\n",
    "rand_seed = 1566911444\n",
    "train_idx, val_idx = train_test_split(np.arange(len(labels)), test_size=400, random_state=rand_seed)\n",
    "train_idx, test_idx = train_test_split(train_idx, test_size=3478, random_state=rand_seed)\n",
    "train_idx.sort()\n",
    "val_idx.sort()\n",
    "test_idx.sort()\n",
    "np.savez(save_prefix + 'train_val_test_idx.npz',\n",
    "         val_idx=val_idx,\n",
    "         train_idx=train_idx,\n",
    "         test_idx=test_idx)"
   ]
  },
  {
   "cell_type": "code",
   "execution_count": null,
   "metadata": {},
   "outputs": [],
   "source": []
  },
  {
   "cell_type": "code",
   "execution_count": null,
   "metadata": {},
   "outputs": [],
   "source": []
  }
 ],
 "metadata": {
  "kernelspec": {
   "display_name": "Python 3",
   "language": "python",
   "name": "python3"
  },
  "language_info": {
   "codemirror_mode": {
    "name": "ipython",
    "version": 3
   },
   "file_extension": ".py",
   "mimetype": "text/x-python",
   "name": "python",
   "nbconvert_exporter": "python",
   "pygments_lexer": "ipython3",
   "version": "3.8.10"
  },
  "pycharm": {
   "stem_cell": {
    "cell_type": "raw",
    "metadata": {
     "collapsed": false
    },
    "source": []
   }
  }
 },
 "nbformat": 4,
 "nbformat_minor": 1
}
